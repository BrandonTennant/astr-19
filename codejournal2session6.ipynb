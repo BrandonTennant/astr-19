{
 "cells": [
  {
   "cell_type": "markdown",
   "id": "81600b13-f88d-427f-a44a-f4e7ed73d97a",
   "metadata": {},
   "source": [
    "Functions for Calculating Sin(x) and Cos(x)"
   ]
  },
  {
   "cell_type": "code",
   "execution_count": 2,
   "id": "b20804d0-1b48-4cfc-ac44-679d17e6f57e",
   "metadata": {},
   "outputs": [],
   "source": [
    "import numpy as np\n",
    "\n",
    "# calculate sin(x)\n",
    "def sin(x):\n",
    "    return np.sin(x)\n",
    "\n",
    "# calculate cos(x)\n",
    "def cos(x):\n",
    "    return np.cos(x)"
   ]
  },
  {
   "cell_type": "markdown",
   "id": "da383f9d-c738-44d4-be73-5e274316f350",
   "metadata": {},
   "source": [
    "Tabulation of sin(x) and cos(x)"
   ]
  },
  {
   "cell_type": "code",
   "execution_count": 4,
   "id": "a814a649-984e-4463-847c-7c59630c9014",
   "metadata": {},
   "outputs": [],
   "source": [
    "# Generate 1000 evenly spaced values of x between 0 and 2\n",
    "x_values = np.linspace(0, 2, 1000)\n",
    "\n",
    "# Calculate sin(x) and cos(x) for these values\n",
    "sin_values = [sin(x) for x in x_values]\n",
    "cos_values = [cos(x) for x in x_values]"
   ]
  },
  {
   "cell_type": "markdown",
   "id": "4287b071-b063-4b1d-905a-36b612ef8eda",
   "metadata": {},
   "source": [
    "Displaying the First 10 Values"
   ]
  },
  {
   "cell_type": "code",
   "execution_count": 6,
   "id": "0f295750-7cec-4b17-927e-c46336beeebe",
   "metadata": {},
   "outputs": [
    {
     "name": "stdout",
     "output_type": "stream",
     "text": [
      "x         sin(x)              cos(x)              \n",
      "0.0000    0.0000              1.0000              \n",
      "0.0020    0.0020              1.0000              \n",
      "0.0040    0.0040              1.0000              \n",
      "0.0060    0.0060              1.0000              \n",
      "0.0080    0.0080              1.0000              \n",
      "0.0100    0.0100              0.9999              \n",
      "0.0120    0.0120              0.9999              \n",
      "0.0140    0.0140              0.9999              \n",
      "0.0160    0.0160              0.9999              \n",
      "0.0180    0.0180              0.9998              \n"
     ]
    }
   ],
   "source": [
    "# Print the first 10 values of x, sin(x), and cos(x)\n",
    "print(f\"{'x':<10}{'sin(x)':<20}{'cos(x)':<20}\")\n",
    "for i in range(10):\n",
    "    print(f\"{x_values[i]:<10.4f}{sin_values[i]:<20.4f}{cos_values[i]:<20.4f}\")"
   ]
  }
 ],
 "metadata": {
  "kernelspec": {
   "display_name": "Python 3 (ipykernel)",
   "language": "python",
   "name": "python3"
  },
  "language_info": {
   "codemirror_mode": {
    "name": "ipython",
    "version": 3
   },
   "file_extension": ".py",
   "mimetype": "text/x-python",
   "name": "python",
   "nbconvert_exporter": "python",
   "pygments_lexer": "ipython3",
   "version": "3.12.7"
  }
 },
 "nbformat": 4,
 "nbformat_minor": 5
}
